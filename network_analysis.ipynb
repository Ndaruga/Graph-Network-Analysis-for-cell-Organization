{
 "cells": [
  {
   "cell_type": "code",
   "execution_count": null,
   "metadata": {},
   "outputs": [],
   "source": [
    "import math\n",
    "import numpy as np\n",
    "import numpy\n",
    "from PIL import Image, ImageDraw\n",
    "from PIL import ImagePath\n",
    "import pandas as pd\n",
    "import os\n",
    "from os import path\n",
    "from tqdm import tqdm\n",
    "import json\n",
    "import cv2\n",
    "import matplotlib.pyplot as plt\n",
    "import urllib"
   ]
  },
  {
   "cell_type": "code",
   "execution_count": null,
   "metadata": {},
   "outputs": [],
   "source": [
    "import tensorflow as tf\n",
    "from tensorflow import keras\n",
    "import matplotlib.pyplot as plt\n",
    "import imgaug.augmenters as iaa\n",
    "from skimage.measure import label, regionprops\n",
    "import plotly.graph_objects as go\n",
    "from plotly.subplots import make_subplots\n",
    "from multiprocessing import Pool, cpu_count\n",
    "import community  # Louvain algorithm package\n",
    "\n",
    "os.environ['TF_FORCE_GPU_ALLOW_GROWTH'] = 'true'"
   ]
  },
  {
   "cell_type": "raw",
   "metadata": {},
   "source": [
    "# !pip install patool\n",
    "import patoolib\n",
    "patoolib.extract_archive('data.zip' ,outdir =  'data',)"
   ]
  },
  {
   "cell_type": "code",
   "execution_count": null,
   "metadata": {},
   "outputs": [],
   "source": [
    "os.listdir('data')"
   ]
  },
  {
   "cell_type": "markdown",
   "metadata": {},
   "source": [
    "# Step 1: Data Preprocessing\n"
   ]
  },
  {
   "cell_type": "markdown",
   "metadata": {},
   "source": [
    "## Load the annotated cell images and masks"
   ]
  },
  {
   "cell_type": "code",
   "execution_count": null,
   "metadata": {},
   "outputs": [],
   "source": [
    "mask_dir = 'data/bwmask'"
   ]
  },
  {
   "cell_type": "code",
   "execution_count": null,
   "metadata": {},
   "outputs": [],
   "source": [
    "def get_file_names(root_dir):\n",
    "    image = []\n",
    "    mask = []\n",
    "    label= []\n",
    "    for i in sorted(os.listdir(root_dir)):        \n",
    "              for frame in sorted(os.listdir(path.join (root_dir,i))):\n",
    "                  if i == 'bwmask':\n",
    "                    mask.append(path.join (root_dir,i,frame))\n",
    "                  elif i == 'label':\n",
    "                    label.append(path.join(root_dir,i,frame))\n",
    "                  else:\n",
    "                    image.append(path.join(root_dir,i,frame))\n",
    "\n",
    "    data_df = pd.DataFrame(data =(zip(image,mask,label)),columns = ['image','bwmask','label'])\n",
    "    return data_df"
   ]
  },
  {
   "cell_type": "code",
   "execution_count": null,
   "metadata": {},
   "outputs": [],
   "source": [
    "data_df = get_file_names('data/')\n",
    "data_df.tail(10)"
   ]
  },
  {
   "cell_type": "markdown",
   "metadata": {},
   "source": [
    "### Display the images per row"
   ]
  },
  {
   "cell_type": "code",
   "execution_count": null,
   "metadata": {},
   "outputs": [],
   "source": [
    "def strip_path(path):\n",
    "  \"\"\"Strips the path and returns only the file name.\n",
    "\n",
    "  Args:\n",
    "    path: The path to the file.\n",
    "\n",
    "  Returns:\n",
    "    The file name.\n",
    "  \"\"\"\n",
    "\n",
    "  filename = os.path.basename(path)\n",
    "  return filename\n",
    "\n",
    "\n",
    "def display_images(row):\n",
    "    \"\"\"\n",
    "    Displays all image formats in a row.\n",
    "\n",
    "    Args:\n",
    "        row: The row number of the image.\n",
    "\n",
    "    \"\"\"\n",
    "    image_path = row['image']\n",
    "    bwmask_path = row['bwmask']\n",
    "    label_path = row['label']\n",
    "\n",
    "    fig, axs = plt.subplots(1, 3, figsize=(10, 4))\n",
    "    \n",
    "    img1 = Image.open(image_path)\n",
    "    imarray1 = numpy.array(img1)\n",
    "    axs[0].imshow(img1)\n",
    "    axs[0].set_title(strip_path(image_path))\n",
    "    axs[0].axis('off')\n",
    "    axs[0].text(0.5, -0.15, f'Shape: {imarray1.shape}', ha='center', transform=axs[0].transAxes)\n",
    "\n",
    "    img2 = Image.open(bwmask_path)\n",
    "    imarray2 = numpy.array(img2)\n",
    "    axs[1].imshow(img2)\n",
    "    axs[1].set_title(strip_path(bwmask_path))\n",
    "    axs[1].axis('off')\n",
    "    axs[1].text(0.5, -0.15, f'Shape: {imarray2.shape}', ha='center', transform=axs[1].transAxes)\n",
    "\n",
    "    img3 = Image.open(label_path)\n",
    "    imarray3 = numpy.array(img3)\n",
    "    axs[2].imshow(img3)\n",
    "    axs[2].set_title(strip_path(label_path))\n",
    "    axs[2].axis('off')\n",
    "    axs[2].text(0.5, -0.15, f'Shape: {imarray3.shape}', ha='center', transform=axs[2].transAxes)\n",
    "\n",
    "\n",
    "    plt.tight_layout()\n",
    "\n",
    "    plt.show()\n",
    "\n",
    "# Display images from the first row of the DataFrame\n",
    "display_images(data_df.iloc[0])\n"
   ]
  },
  {
   "cell_type": "code",
   "execution_count": null,
   "metadata": {},
   "outputs": [],
   "source": [
    "def tile(filename, dir_in, dir_out, d, image_or_mask):\n",
    "    lst = []\n",
    "    name, ext = os.path.splitext(filename)\n",
    "    img = Image.open(os.path.join(dir_in, filename))\n",
    "    w, h = img.size\n",
    "    grid = product(range(0, h - h % d, d), range(0, w - w % d, d))\n",
    "    for i, j in grid:\n",
    "        df = {\n",
    "            f'{image_or_mask}_name': filename,\n",
    "            f'{image_or_mask}_path': os.path.join(dir_in, filename),\n",
    "        }\n",
    "        box = (j, i, j + d, i + d)\n",
    "        out = os.path.join(dir_out, f'{name}_{i}_{j}{ext}')\n",
    "        df[f'sliced_{image_or_mask}_path'] = out\n",
    "        img.crop(box).save(out)\n",
    "        lst.append(df)\n",
    "    return lst\n"
   ]
  },
  {
   "cell_type": "code",
   "execution_count": null,
   "metadata": {},
   "outputs": [],
   "source": []
  },
  {
   "cell_type": "code",
   "execution_count": null,
   "metadata": {},
   "outputs": [],
   "source": [
    "\n",
    "def process_images(data_df, dir_in, dir_out, d):\n",
    "    data_dict = []\n",
    "    for index, row in tqdm(data_df.iterrows()):\n",
    "        if not os.path.isdir(os.path.join(dir_out, \"image\")):\n",
    "            os.makedirs(os.path.join(dir_out, \"image\"))\n",
    "        if not os.path.isdir(os.path.join(dir_out, \"bwmask\")):\n",
    "            os.makedirs(os.path.join(dir_out, \"bwmask\"))\n",
    "\n",
    "        image_data = tile(os.path.basename(row['image']), dir_in, os.path.join(dir_out, \"image\"), d, 'image')\n",
    "        mask_data = tile(os.path.basename(row['bwmask']), dir_in, os.path.join(dir_out, \"bwmask\"), d, 'bwmask')\n",
    "\n",
    "        merged_data = []\n",
    "        for i in range(len(mask_data)):\n",
    "            mask_data[i].update(image_data[i])\n",
    "            merged_data.extend(mask_data)\n",
    "\n",
    "        data_dict.extend(merged_data)\n",
    "\n",
    "    processed_df = pd.DataFrame(data_dict)\n",
    "    return processed_df\n"
   ]
  },
  {
   "cell_type": "code",
   "execution_count": null,
   "metadata": {},
   "outputs": [],
   "source": [
    "# processed_df = process_images(data_df, dir_in, dir_out, d=256)\n",
    "# Processed_df"
   ]
  },
  {
   "cell_type": "markdown",
   "metadata": {},
   "source": [
    "## Extract protein localization and interaction information from the masks\n"
   ]
  },
  {
   "cell_type": "code",
   "execution_count": null,
   "metadata": {},
   "outputs": [],
   "source": [
    "from skimage.measure import label, regionprops\n",
    "import matplotlib.pyplot as plt\n",
    "\n",
    "def extract_protein_information(mask_dir, batch_size=5, min_area_threshold=50):\n",
    "    mask_files = os.listdir(mask_dir)\n",
    "    num_masks = len(mask_files)\n",
    "\n",
    "    # Process masks sequentially\n",
    "    for i in range(0, num_masks, batch_size):\n",
    "        batch_mask_files = mask_files[i:i + batch_size]\n",
    "\n",
    "        protein_info = []  # Clear protein_info after each batch\n",
    "\n",
    "        for mask_file in batch_mask_files:\n",
    "            mask_path = os.path.join(mask_dir, mask_file)\n",
    "            image_name, _ = os.path.splitext(mask_file)\n",
    "\n",
    "            # Use context manager for Image.open\n",
    "            with Image.open(mask_path) as img:\n",
    "                mask = np.array(img)\n",
    "\n",
    "                # Perform connected component labeling\n",
    "                labeled_mask = label(mask)\n",
    "\n",
    "                # Calculate protein localization information\n",
    "                for region in regionprops(labeled_mask):\n",
    "                    if region.area >= min_area_threshold:  # Set a minimum area threshold to filter out noise\n",
    "                        y, x = region.centroid\n",
    "                        protein_info.append({\n",
    "                            'image_name': image_name,\n",
    "                            'protein_id': region.label,\n",
    "                            'area': region.area,\n",
    "                            'centroid_x': x,\n",
    "                            'centroid_y': y,\n",
    "                            'bbox': region.bbox\n",
    "                        })\n",
    "\n",
    "        # Identify interacting regions\n",
    "        if len(protein_info) > 1:\n",
    "            interacting_pairs = set()\n",
    "            for i in range(len(protein_info)):\n",
    "                for j in range(i + 1, len(protein_info)):\n",
    "                    bbox_i = protein_info[i]['bbox']\n",
    "                    bbox_j = protein_info[j]['bbox']\n",
    "                    if do_boxes_intersect(bbox_i, bbox_j):\n",
    "                        interacting_pairs.add((protein_info[i]['protein_id'], protein_info[j]['protein_id']))\n",
    "\n",
    "            # Add interacting pairs to protein_info\n",
    "            for pair in interacting_pairs:\n",
    "                protein_info.append({\n",
    "                    'image_name': image_name,\n",
    "                    'protein_id': f'interaction_{pair[0]}_{pair[1]}',\n",
    "                    'area': -1,  # Indicate that it's an interaction region\n",
    "                    'centroid_x': -1,\n",
    "                    'centroid_y': -1,\n",
    "                    'bbox': (-1, -1, -1, -1)\n",
    "                })\n",
    "\n",
    "        # Use yield to return each batch's DataFrame\n",
    "        yield pd.DataFrame(protein_info)\n",
    "        \n",
    "def do_boxes_intersect(bbox1, bbox2):\n",
    "    # Check if two bounding boxes intersect\n",
    "    y1_min, x1_min, y1_max, x1_max = bbox1\n",
    "    y2_min, x2_min, y2_max, x2_max = bbox2\n",
    "    return not (x1_max < x2_min or x1_min > x2_max or y1_max < y2_min or y1_min > y2_max)\n",
    "\n"
   ]
  },
  {
   "cell_type": "code",
   "execution_count": null,
   "metadata": {},
   "outputs": [],
   "source": [
    "for batch_data in extract_protein_information(mask_dir, batch_size=64, min_area_threshold=50):\n",
    "    print(batch_data.head())"
   ]
  },
  {
   "cell_type": "code",
   "execution_count": null,
   "metadata": {},
   "outputs": [],
   "source": [
    "batch_data.head()"
   ]
  },
  {
   "cell_type": "markdown",
   "metadata": {},
   "source": [
    "# Step 2: Graph Network Generation"
   ]
  },
  {
   "cell_type": "code",
   "execution_count": null,
   "metadata": {},
   "outputs": [],
   "source": [
    "import networkx as nx\n",
    "\n",
    "def create_cell_network_graph(protein_data):\n",
    "    G = nx.Graph()\n",
    "\n",
    "    # Add nodes to the graph\n",
    "    for _, row in protein_data.iterrows():\n",
    "        G.add_node(str(row['protein_id']), area=row['area'], centroid=(row['centroid_x'], row['centroid_y']))\n",
    "\n",
    "    # Add edges for interacting pairs\n",
    "    for _, row in protein_data.iterrows():\n",
    "        if str(row['protein_id']).startswith('interaction_'):\n",
    "            _, node1, node2 = str(row['protein_id']).split('_')\n",
    "            G.add_edge(node1, node2)\n",
    "\n",
    "    return G\n"
   ]
  },
  {
   "cell_type": "markdown",
   "metadata": {},
   "source": [
    "### Create a graph data structure to represent the cell network"
   ]
  },
  {
   "cell_type": "code",
   "execution_count": null,
   "metadata": {},
   "outputs": [],
   "source": [
    "protein_data = pd.concat(list(extract_protein_information(mask_dir, batch_size=64, min_area_threshold=50)))\n",
    "cell_network_graph = create_cell_network_graph(protein_data)\n",
    "cell_network_graph"
   ]
  },
  {
   "cell_type": "code",
   "execution_count": null,
   "metadata": {},
   "outputs": [],
   "source": [
    "# Visualization of the cell_network_graph\n",
    "pos = nx.get_node_attributes(cell_network_graph, 'centroid')  # Get positions of nodes\n",
    "\n",
    "node_sizes = [data['area'] for node, data in cell_network_graph.nodes(data=True)]\n",
    "nx.draw_networkx_nodes(cell_network_graph, pos, node_size=node_sizes, node_color='skyblue', alpha=0.7)\n",
    "\n",
    "nx.draw_networkx_edges(cell_network_graph, pos, edge_color='gray', alpha=0.5)\n",
    "labels = {node: str(node) for node in cell_network_graph.nodes()}\n",
    "nx.draw_networkx_labels(cell_network_graph, pos, labels, font_size=10, font_color='black')\n",
    "\n",
    "# Set plot properties\n",
    "plt.title(\"Cell Network Graph Visualization\")\n",
    "plt.axis('off')\n",
    "plt.show()"
   ]
  },
  {
   "cell_type": "markdown",
   "metadata": {},
   "source": [
    "# Network Analysis using Louvain Algorithm"
   ]
  },
  {
   "cell_type": "code",
   "execution_count": null,
   "metadata": {},
   "outputs": [],
   "source": [
    "from community import community_louvain\n",
    "# import community as community_louvain  # Louvain algorithm package\n",
    "\n",
    "partition = community_louvain.best_partition(cell_network_graph)\n",
    "\n",
    "# Use NetworkX library to implement the Louvain algorithm for community detection\n",
    "# Partition the cell network into communities (protein complexes)\n",
    "# Analyze the communities to identify important nodes and pathways\n",
    "# Analyze the communities\n",
    "communities = {}\n",
    "for node, community_id in partition.items():\n",
    "    if community_id not in communities:\n",
    "        communities[community_id] = []\n",
    "    communities[community_id].append(node)\n",
    "\n",
    "# Print the communities\n",
    "print(\"Identified Communities (Protein Complexes):\")\n",
    "for community_id, nodes in communities.items():\n",
    "    print(f\"Community {community_id}: {nodes}\")"
   ]
  },
  {
   "cell_type": "markdown",
   "metadata": {},
   "source": [
    "\n",
    "# Network Visualization\n"
   ]
  },
  {
   "cell_type": "markdown",
   "metadata": {},
   "source": [
    "#### Use NetworkX or other libraries like Matplotlib or Plotly to visualize the cell network\n",
    "#### Visualize protein complexes as separate subgraphs or colors for better understanding\n"
   ]
  },
  {
   "cell_type": "code",
   "execution_count": null,
   "metadata": {},
   "outputs": [],
   "source": [
    "\n",
    "# Filter nodes based on degree centrality\n",
    "degree_centrality = nx.degree_centrality(cell_network_graph)\n",
    "important_nodes = {node for node, centrality in degree_centrality.items() if centrality > 0.05}  # Adjust the threshold as needed\n",
    "\n",
    "# Visualization of the cell_network_graph with protein complexes as subgraphs\n",
    "pos = nx.get_node_attributes(cell_network_graph, 'centroid')  # Get positions of nodes\n",
    "\n",
    "# Create separate node lists for important and non-important nodes\n",
    "important_nodes_list = [node for node in cell_network_graph.nodes() if node in important_nodes]\n",
    "non_important_nodes_list = [node for node in cell_network_graph.nodes() if node not in important_nodes]\n",
    "\n",
    "# Draw important nodes with their area as node size and color based on communities\n",
    "important_node_sizes = [data['area'] for node, data in cell_network_graph.nodes(data=True) if node in important_nodes]\n",
    "important_node_colors = [partition[node] for node in important_nodes_list]\n",
    "nx.draw_networkx_nodes(cell_network_graph, pos, nodelist=important_nodes_list, node_size=important_node_sizes, node_color=important_node_colors, cmap='viridis', alpha=0.7)\n",
    "\n",
    "# Draw non-important nodes with a fixed size and color (if desired)\n",
    "nx.draw_networkx_nodes(cell_network_graph, pos, nodelist=non_important_nodes_list, node_size=30, node_color='gray', alpha=0.7)\n",
    "\n",
    "# Draw edges with edge bundling\n",
    "bundled_edges = nx.bundled_edges(cell_network_graph)\n",
    "nx.draw_networkx_edges(cell_network_graph, pos, edgelist=bundled_edges, edge_color='gray', alpha=0.5)\n",
    "\n",
    "# Draw protein complexes as subgraphs with distinct colors\n",
    "colors = plt.cm.get_cmap('tab20', num_communities)\n",
    "for i, protein_complex in enumerate(protein_complexes):\n",
    "    nx.draw(protein_complex, pos, node_size=30, node_color=[colors(i)], alpha=0.7, edge_color='gray', linewidths=0.5)\n",
    "\n",
    "# Label only important nodes\n",
    "important_node_labels = {node: str(node) for node in important_nodes}\n",
    "nx.draw_networkx_labels(cell_network_graph, pos, labels=important_node_labels, font_size=10, font_color='black')\n",
    "\n",
    "# Set plot properties\n",
    "plt.title(\"Cell Network Graph with Protein Complexes (Filtered)\")\n",
    "plt.axis('off')\n",
    "plt.show()\n",
    "\n"
   ]
  },
  {
   "cell_type": "code",
   "execution_count": null,
   "metadata": {},
   "outputs": [],
   "source": [
    "from matplotlib.collections import LineCollection\n",
    "\n",
    "# Get the number of protein complexes (communities)\n",
    "num_communities = max(partition.values()) + 1\n",
    "\n",
    "# Separate protein complexes into subgraphs based on community IDs\n",
    "protein_complexes = [cell_network_graph.subgraph([node for node in cell_network_graph.nodes if partition[node] == community_id])\n",
    "                        for community_id in range(num_communities)]\n"
   ]
  },
  {
   "cell_type": "code",
   "execution_count": null,
   "metadata": {},
   "outputs": [],
   "source": [
    "\n",
    "# Filter nodes based on degree centrality\n",
    "degree_centrality = nx.degree_centrality(cell_network_graph)\n",
    "important_nodes = {node for node, centrality in degree_centrality.items() if centrality > 0.05}  # Adjust the threshold as needed\n",
    "\n",
    "# Visualization of the cell_network_graph with protein complexes as subgraphs\n",
    "pos = nx.get_node_attributes(cell_network_graph, 'centroid')  # Get positions of nodes\n",
    "\n",
    "# Create separate node lists for important and non-important nodes\n",
    "important_nodes_list = [node for node in cell_network_graph.nodes() if node in important_nodes]\n",
    "non_important_nodes_list = [node for node in cell_network_graph.nodes() if node not in important_nodes]\n",
    "\n",
    "# Draw important nodes with their area as node size and color based on communities\n",
    "important_node_sizes = [data['area'] for node, data in cell_network_graph.nodes(data=True) if node in important_nodes]\n",
    "important_node_colors = [partition[node] for node in important_nodes_list]\n",
    "nx.draw_networkx_nodes(cell_network_graph, pos, nodelist=important_nodes_list, node_size=important_node_sizes, node_color=important_node_colors, cmap='viridis', alpha=0.7)\n",
    "\n",
    "# Draw non-important nodes with a fixed size and color (if desired)\n",
    "nx.draw_networkx_nodes(cell_network_graph, pos, nodelist=non_important_nodes_list, node_size=30, node_color='gray', alpha=0.7)\n",
    "\n",
    "# Draw edges using LineCollection for edge bundling effect\n",
    "edges = cell_network_graph.edges()\n",
    "edge_colors = [partition[u] for u, v in edges]\n",
    "edge_positions = np.array([(pos[u], pos[v]) for u, v in edges], dtype='f')\n",
    "lc = LineCollection(edge_positions, colors='gray', linewidths=0.5, alpha=0.5)\n",
    "plt.gca().add_collection(lc)\n",
    "\n",
    "# Draw protein complexes as subgraphs with distinct colors\n",
    "colors = plt.cm.get_cmap('tab20', num_communities)\n",
    "for i, protein_complex in enumerate(protein_complexes):\n",
    "    nx.draw(protein_complex, pos, node_size=30, node_color=[colors(i)], alpha=0.7, edge_color='gray', linewidths=0.5)\n",
    "\n",
    "# Label only important nodes\n",
    "important_node_labels = {node: str(node) for node in important_nodes}\n",
    "nx.draw_networkx_labels(cell_network_graph, pos, labels=important_node_labels, font_size=10, font_color='black')\n",
    "\n",
    "# Set plot properties\n",
    "plt.title(\"Cell Network Graph with Protein Complexes (Filtered)\")\n",
    "plt.axis('off')\n",
    "plt.show()"
   ]
  },
  {
   "cell_type": "code",
   "execution_count": null,
   "metadata": {},
   "outputs": [],
   "source": [
    "from multiprocessing import Pool, cpu_count\n",
    "import community  # Louvain algorithm package\n",
    "\n",
    "def filter_nodes_by_degree(graph, threshold):\n",
    "    degree_centrality = nx.degree_centrality(graph)\n",
    "    important_nodes = {node for node, centrality in degree_centrality.items() if centrality > threshold}\n",
    "    return important_nodes\n",
    "\n",
    "def create_subgraph_for_community(graph, community_id):\n",
    "    return graph.subgraph([node for node in graph.nodes if partition[node] == community_id])\n",
    "\n",
    "def limit_cells_to_display(graph, num_cells_to_display):\n",
    "    return sorted(graph.nodes(), key=lambda x: nx.degree(graph, x), reverse=True)[:num_cells_to_display]\n",
    "\n",
    "def edge_bundling_edges(graph, cells_to_display):\n",
    "    return [(u, v) for u, v in graph.edges() if u in cells_to_display and v in cells_to_display]\n",
    "\n",
    "def get_node_sizes(graph, cells_to_display, important_nodes):\n",
    "    node_sizes = []\n",
    "    for node in cells_to_display:\n",
    "        if node in important_nodes:\n",
    "            node_data = graph.nodes[node]\n",
    "            node_sizes.append(node_data['area'])\n",
    "        else:\n",
    "            node_sizes.append(30)  # A fixed size for non-important nodes\n",
    "    return node_sizes\n",
    "\n",
    "def draw_cell_network_with_protein_complexes(graph, partition, protein_complexes, num_cells_to_display=50, node_degree_threshold=0.05):\n",
    "    important_nodes = filter_nodes_by_degree(graph, node_degree_threshold)\n",
    "    cells_to_display = limit_cells_to_display(graph, num_cells_to_display)\n",
    "    pos = nx.get_node_attributes(graph, 'centroid')\n",
    "    \n",
    "    # Get node sizes based on importance\n",
    "    node_sizes = get_node_sizes(graph, cells_to_display, important_nodes)\n",
    "    \n",
    "    # Draw important nodes with their area as node size and color based on communities\n",
    "    important_node_colors = [partition[node] for node in cells_to_display if node in important_nodes]\n",
    "    nx.draw_networkx_nodes(graph, pos, nodelist=cells_to_display, node_size=node_sizes, node_color=important_node_colors, cmap='viridis', alpha=0.7)\n",
    "\n",
    "    # Draw non-important nodes with a fixed size and color (if desired)\n",
    "    non_important_nodes_list = [node for node in cells_to_display if node not in important_nodes]\n",
    "    nx.draw_networkx_nodes(graph, pos, nodelist=non_important_nodes_list, node_size=30, node_color='gray', alpha=0.7)\n",
    "\n",
    "    # Draw edges using LineCollection for edge bundling effect\n",
    "    edges = edge_bundling_edges(graph, cells_to_display)\n",
    "    edge_colors = [partition[u] for u, v in edges]\n",
    "    edge_positions = np.array([(pos[u], pos[v]) for u, v in edges], dtype='f')\n",
    "    lc = LineCollection(edge_positions, colors='gray', linewidths=0.5, alpha=0.5)\n",
    "    plt.gca().add_collection(lc)\n",
    "\n",
    "    # Draw protein complexes as subgraphs with distinct colors\n",
    "    num_communities = max(partition.values()) + 1\n",
    "    colors = plt.cm.get_cmap('tab20', num_communities)\n",
    "    for i, protein_complex in enumerate(protein_complexes):\n",
    "        nx.draw(protein_complex, pos, node_size=30, node_color=[colors(i)], alpha=0.7, edge_color='gray', linewidths=0.5)\n",
    "\n",
    "    # Label only important nodes\n",
    "    important_node_labels = {node: str(node) for node in cells_to_display if node in important_nodes}\n",
    "    nx.draw_networkx_labels(graph, pos, labels=important_node_labels, font_size=10, font_color='black')\n",
    "\n",
    "    # Set plot properties\n",
    "    plt.title(\"Cell Network Graph with Protein Complexes (Limited Cells)\")\n",
    "    plt.axis('off')\n",
    "    plt.show()\n"
   ]
  },
  {
   "cell_type": "code",
   "execution_count": null,
   "metadata": {},
   "outputs": [],
   "source": [
    "draw_cell_network_with_protein_complexes(cell_network_graph, partition, protein_complexes)"
   ]
  },
  {
   "cell_type": "code",
   "execution_count": null,
   "metadata": {},
   "outputs": [],
   "source": [
    "\n",
    "def get_node_sizes(graph, cells_to_display, important_nodes):\n",
    "    node_sizes = []\n",
    "    for node in cells_to_display:\n",
    "        if node in important_nodes:\n",
    "            node_data = graph.nodes[node]\n",
    "            node_sizes.append(node_data['area'])\n",
    "        else:\n",
    "            node_sizes.append(30)  # A fixed size for non-important nodes\n",
    "    return node_sizes\n"
   ]
  },
  {
   "cell_type": "code",
   "execution_count": null,
   "metadata": {},
   "outputs": [],
   "source": [
    "\n",
    "def draw_cell_network_with_protein_complexes1(graph, partition, protein_complexes, num_cells_to_display=50, node_degree_threshold=0.05):\n",
    "    important_nodes = filter_nodes_by_degree(graph, node_degree_threshold)\n",
    "    cells_to_display = limit_cells_to_display(graph, num_cells_to_display)\n",
    "    pos = nx.get_node_attributes(graph, 'centroid')\n",
    "    \n",
    "    # Get node sizes based on importance\n",
    "    node_sizes = get_node_sizes(graph, cells_to_display, important_nodes)\n",
    "    \n",
    "    # Create subplots for main graph and protein complexes\n",
    "    fig = make_subplots(rows=1, cols=2, subplot_titles=[\"Cell Network Graph\", \"Protein Complexes\"])\n",
    "    \n",
    "    # Draw important nodes with their area as node size and color based on communities\n",
    "    important_node_colors = [partition[node] for node in cells_to_display if node in important_nodes]\n",
    "    node_trace = go.Scatter(x=[], y=[], mode='markers', text=[], marker=dict(size=node_sizes, color=important_node_colors, colorscale='viridis', colorbar=dict(title='Community')))\n",
    "    for node in cells_to_display:\n",
    "        x, y = pos[node]\n",
    "        node_trace['x'] += tuple([x])\n",
    "        node_trace['y'] += tuple([y])\n",
    "        node_trace['text'] += tuple([node])\n",
    "    fig.add_trace(node_trace, row=1, col=1)\n",
    "\n",
    "    # Draw edges\n",
    "    edge_trace = go.Scatter(x=[], y=[], line=dict(width=0.5, color='gray'), hoverinfo='none', mode='lines')\n",
    "    for edge in edge_bundling_edges(graph, cells_to_display):\n",
    "        x0, y0 = pos[edge[0]]\n",
    "        x1, y1 = pos[edge[1]]\n",
    "        edge_trace['x'] += tuple([x0, x1, None])\n",
    "        edge_trace['y'] += tuple([y0, y1, None])\n",
    "    fig.add_trace(edge_trace, row=1, col=1)\n",
    "\n",
    "    # Draw protein complexes as subgraphs with distinct colors\n",
    "    colors = plt.cm.get_cmap('tab20', len(protein_complexes))\n",
    "    for i, protein_complex in enumerate(protein_complexes):\n",
    "        complex_x, complex_y = zip(*[pos[node] for node in protein_complex.nodes()])\n",
    "        complex_trace = go.Scatter(x=complex_x, y=complex_y, mode='markers', marker=dict(size=10, color=[colors(i)]))\n",
    "        fig.add_trace(complex_trace, row=1, col=2)\n",
    "\n",
    "    # Set axis properties\n",
    "    fig.update_xaxes(showticklabels=False, showgrid=False, zeroline=False, row=1, col=1)\n",
    "    fig.update_yaxes(showticklabels=False, showgrid=False, zeroline=False, row=1, col=1)\n",
    "    fig.update_xaxes(showticklabels=False, showgrid=False, zeroline=False, row=1, col=2)\n",
    "    fig.update_yaxes(showticklabels=False, showgrid=False, zeroline=False, row=1, col=2)\n",
    "\n",
    "    # Set layout properties\n",
    "    fig.update_layout(title_text=\"Cell Network Graph with Protein Complexes (Limited Cells)\", showlegend=False)\n",
    "    fig.show()\n",
    "\n",
    "# Call function\n",
    "draw_cell_network_with_protein_complexes1(cell_network_graph, partition, protein_complexes)\n"
   ]
  },
  {
   "cell_type": "code",
   "execution_count": null,
   "metadata": {},
   "outputs": [],
   "source": []
  },
  {
   "cell_type": "code",
   "execution_count": null,
   "metadata": {},
   "outputs": [],
   "source": []
  },
  {
   "cell_type": "code",
   "execution_count": null,
   "metadata": {},
   "outputs": [],
   "source": []
  },
  {
   "cell_type": "code",
   "execution_count": null,
   "metadata": {},
   "outputs": [],
   "source": []
  },
  {
   "cell_type": "code",
   "execution_count": null,
   "metadata": {},
   "outputs": [],
   "source": []
  },
  {
   "cell_type": "code",
   "execution_count": null,
   "metadata": {},
   "outputs": [],
   "source": []
  }
 ],
 "metadata": {
  "kernelspec": {
   "display_name": "Python 3 (ipykernel)",
   "language": "python",
   "name": "python3"
  },
  "language_info": {
   "codemirror_mode": {
    "name": "ipython",
    "version": 3
   },
   "file_extension": ".py",
   "mimetype": "text/x-python",
   "name": "python",
   "nbconvert_exporter": "python",
   "pygments_lexer": "ipython3",
   "version": "3.11.3"
  }
 },
 "nbformat": 4,
 "nbformat_minor": 2
}
