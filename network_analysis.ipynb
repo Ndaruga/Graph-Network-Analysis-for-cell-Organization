{
 "cells": [
  {
   "cell_type": "code",
   "execution_count": 1,
   "metadata": {},
   "outputs": [],
   "source": [
    "import math\n",
    "import numpy as np\n",
    "import numpy\n",
    "from PIL import Image, ImageDraw\n",
    "from PIL import ImagePath\n",
    "import pandas as pd\n",
    "import os\n",
    "from os import path\n",
    "from tqdm import tqdm\n",
    "import json\n",
    "import cv2\n",
    "import matplotlib.pyplot as plt\n",
    "import urllib"
   ]
  },
  {
   "cell_type": "code",
   "execution_count": 2,
   "metadata": {},
   "outputs": [
    {
     "name": "stderr",
     "output_type": "stream",
     "text": [
      "2023-07-18 18:58:34.299642: I tensorflow/tsl/cuda/cudart_stub.cc:28] Could not find cuda drivers on your machine, GPU will not be used.\n",
      "2023-07-18 18:58:34.376328: I tensorflow/tsl/cuda/cudart_stub.cc:28] Could not find cuda drivers on your machine, GPU will not be used.\n",
      "2023-07-18 18:58:35.437936: W tensorflow/compiler/tf2tensorrt/utils/py_utils.cc:38] TF-TRT Warning: Could not find TensorRT\n"
     ]
    }
   ],
   "source": [
    "import tensorflow as tf\n",
    "from tensorflow import keras\n",
    "# tf.enable_eager_execution()\n",
    "import os\n",
    "import numpy as np\n",
    "import pandas as pd\n",
    "import cv2\n",
    "import matplotlib.pyplot as plt\n",
    "# from hilbert import hilbertCurve\n",
    "import imgaug.augmenters as iaa\n",
    "import numpy as np\n",
    "# import albumentations as A\n",
    "os.environ['TF_FORCE_GPU_ALLOW_GROWTH'] = 'true'"
   ]
  },
  {
   "cell_type": "raw",
   "metadata": {},
   "source": [
    "# !pip install patool\n",
    "import patoolib\n",
    "patoolib.extract_archive('data.zip' ,outdir =  'data',)"
   ]
  },
  {
   "cell_type": "code",
   "execution_count": 3,
   "metadata": {},
   "outputs": [
    {
     "data": {
      "text/plain": [
       "['label', 'image', 'bwmask']"
      ]
     },
     "execution_count": 3,
     "metadata": {},
     "output_type": "execute_result"
    }
   ],
   "source": [
    "os.listdir('data')"
   ]
  },
  {
   "cell_type": "markdown",
   "metadata": {},
   "source": [
    "# Step 1: Data Preprocessing\n"
   ]
  },
  {
   "cell_type": "markdown",
   "metadata": {},
   "source": [
    "## Load the annotated cell images and masks"
   ]
  },
  {
   "cell_type": "code",
   "execution_count": 4,
   "metadata": {},
   "outputs": [],
   "source": [
    "def get_file_names(root_dir):\n",
    "    image = []\n",
    "    mask = []\n",
    "    label= []\n",
    "    for i in sorted(os.listdir(root_dir)):        \n",
    "              for frame in sorted(os.listdir(path.join (root_dir,i))):\n",
    "                  if i == 'bwmask':\n",
    "                    mask.append(path.join (root_dir,i,frame))\n",
    "                  elif i == 'label':\n",
    "                    label.append(path.join(root_dir,i,frame))\n",
    "                  else:\n",
    "                    image.append(path.join(root_dir,i,frame))\n",
    "\n",
    "    data_df = pd.DataFrame(data =(zip(image,mask,label)),columns = ['image','bwmask','label'])\n",
    "    return data_df"
   ]
  },
  {
   "cell_type": "code",
   "execution_count": 5,
   "metadata": {},
   "outputs": [
    {
     "data": {
      "text/html": [
       "<div>\n",
       "<style scoped>\n",
       "    .dataframe tbody tr th:only-of-type {\n",
       "        vertical-align: middle;\n",
       "    }\n",
       "\n",
       "    .dataframe tbody tr th {\n",
       "        vertical-align: top;\n",
       "    }\n",
       "\n",
       "    .dataframe thead th {\n",
       "        text-align: right;\n",
       "    }\n",
       "</style>\n",
       "<table border=\"1\" class=\"dataframe\">\n",
       "  <thead>\n",
       "    <tr style=\"text-align: right;\">\n",
       "      <th></th>\n",
       "      <th>image</th>\n",
       "      <th>bwmask</th>\n",
       "      <th>label</th>\n",
       "    </tr>\n",
       "  </thead>\n",
       "  <tbody>\n",
       "    <tr>\n",
       "      <th>43</th>\n",
       "      <td>data/image/ID319_A1_Regione-0.jp2-crop_slice_9...</td>\n",
       "      <td>data/bwmask/ID319_A1_Regione-0.jp2-crop_slice_...</td>\n",
       "      <td>data/label/ID319_A1_Regione-0.jp2-crop_slice_9...</td>\n",
       "    </tr>\n",
       "    <tr>\n",
       "      <th>44</th>\n",
       "      <td>data/image/ID319_A1_Regione-0.jp2-crop_slice_9...</td>\n",
       "      <td>data/bwmask/ID319_A1_Regione-0.jp2-crop_slice_...</td>\n",
       "      <td>data/label/ID319_A1_Regione-0.jp2-crop_slice_9...</td>\n",
       "    </tr>\n",
       "    <tr>\n",
       "      <th>45</th>\n",
       "      <td>data/image/ID319_A1_Regione-1.jp2-crop_slice_2...</td>\n",
       "      <td>data/bwmask/ID319_A1_Regione-1.jp2-crop_slice_...</td>\n",
       "      <td>data/label/ID319_A1_Regione-1.jp2-crop_slice_2...</td>\n",
       "    </tr>\n",
       "    <tr>\n",
       "      <th>46</th>\n",
       "      <td>data/image/ID319_A1_Regione-1.jp2-crop_slice_c...</td>\n",
       "      <td>data/bwmask/ID319_A1_Regione-1.jp2-crop_slice_...</td>\n",
       "      <td>data/label/ID319_A1_Regione-1.jp2-crop_slice_c...</td>\n",
       "    </tr>\n",
       "    <tr>\n",
       "      <th>47</th>\n",
       "      <td>data/image/ID319_A1_Regione-1.jp2-crop_slice_c...</td>\n",
       "      <td>data/bwmask/ID319_A1_Regione-1.jp2-crop_slice_...</td>\n",
       "      <td>data/label/ID319_A1_Regione-1.jp2-crop_slice_c...</td>\n",
       "    </tr>\n",
       "    <tr>\n",
       "      <th>48</th>\n",
       "      <td>data/image/ID319_A1_Regione-1.jp2-crop_slice_c...</td>\n",
       "      <td>data/bwmask/ID319_A1_Regione-1.jp2-crop_slice_...</td>\n",
       "      <td>data/label/ID319_A1_Regione-1.jp2-crop_slice_c...</td>\n",
       "    </tr>\n",
       "    <tr>\n",
       "      <th>49</th>\n",
       "      <td>data/image/ID343_A1b-3.jp2-crop_slice_18.png</td>\n",
       "      <td>data/bwmask/ID343_A1b-3.jp2-crop_slice_18.png</td>\n",
       "      <td>data/label/ID343_A1b-3.jp2-crop_slice_18.tif</td>\n",
       "    </tr>\n",
       "    <tr>\n",
       "      <th>50</th>\n",
       "      <td>data/image/ID343_A1b-3.jp2-crop_slice_6.png</td>\n",
       "      <td>data/bwmask/ID343_A1b-3.jp2-crop_slice_6.png</td>\n",
       "      <td>data/label/ID343_A1b-3.jp2-crop_slice_6.tif</td>\n",
       "    </tr>\n",
       "    <tr>\n",
       "      <th>51</th>\n",
       "      <td>data/image/ID343_A1b-3.jp2-crop_slice_7.png</td>\n",
       "      <td>data/bwmask/ID343_A1b-3.jp2-crop_slice_7.png</td>\n",
       "      <td>data/label/ID343_A1b-3.jp2-crop_slice_7.tif</td>\n",
       "    </tr>\n",
       "    <tr>\n",
       "      <th>52</th>\n",
       "      <td>data/image/ID4_A1_Regione-0-crop_slice_4.png</td>\n",
       "      <td>data/bwmask/ID4_A1_Regione-0-crop_slice_4.png</td>\n",
       "      <td>data/label/ID4_A1_Regione-0-crop_slice_4.tif</td>\n",
       "    </tr>\n",
       "  </tbody>\n",
       "</table>\n",
       "</div>"
      ],
      "text/plain": [
       "                                                image  \\\n",
       "43  data/image/ID319_A1_Regione-0.jp2-crop_slice_9...   \n",
       "44  data/image/ID319_A1_Regione-0.jp2-crop_slice_9...   \n",
       "45  data/image/ID319_A1_Regione-1.jp2-crop_slice_2...   \n",
       "46  data/image/ID319_A1_Regione-1.jp2-crop_slice_c...   \n",
       "47  data/image/ID319_A1_Regione-1.jp2-crop_slice_c...   \n",
       "48  data/image/ID319_A1_Regione-1.jp2-crop_slice_c...   \n",
       "49       data/image/ID343_A1b-3.jp2-crop_slice_18.png   \n",
       "50        data/image/ID343_A1b-3.jp2-crop_slice_6.png   \n",
       "51        data/image/ID343_A1b-3.jp2-crop_slice_7.png   \n",
       "52       data/image/ID4_A1_Regione-0-crop_slice_4.png   \n",
       "\n",
       "                                               bwmask  \\\n",
       "43  data/bwmask/ID319_A1_Regione-0.jp2-crop_slice_...   \n",
       "44  data/bwmask/ID319_A1_Regione-0.jp2-crop_slice_...   \n",
       "45  data/bwmask/ID319_A1_Regione-1.jp2-crop_slice_...   \n",
       "46  data/bwmask/ID319_A1_Regione-1.jp2-crop_slice_...   \n",
       "47  data/bwmask/ID319_A1_Regione-1.jp2-crop_slice_...   \n",
       "48  data/bwmask/ID319_A1_Regione-1.jp2-crop_slice_...   \n",
       "49      data/bwmask/ID343_A1b-3.jp2-crop_slice_18.png   \n",
       "50       data/bwmask/ID343_A1b-3.jp2-crop_slice_6.png   \n",
       "51       data/bwmask/ID343_A1b-3.jp2-crop_slice_7.png   \n",
       "52      data/bwmask/ID4_A1_Regione-0-crop_slice_4.png   \n",
       "\n",
       "                                                label  \n",
       "43  data/label/ID319_A1_Regione-0.jp2-crop_slice_9...  \n",
       "44  data/label/ID319_A1_Regione-0.jp2-crop_slice_9...  \n",
       "45  data/label/ID319_A1_Regione-1.jp2-crop_slice_2...  \n",
       "46  data/label/ID319_A1_Regione-1.jp2-crop_slice_c...  \n",
       "47  data/label/ID319_A1_Regione-1.jp2-crop_slice_c...  \n",
       "48  data/label/ID319_A1_Regione-1.jp2-crop_slice_c...  \n",
       "49       data/label/ID343_A1b-3.jp2-crop_slice_18.tif  \n",
       "50        data/label/ID343_A1b-3.jp2-crop_slice_6.tif  \n",
       "51        data/label/ID343_A1b-3.jp2-crop_slice_7.tif  \n",
       "52       data/label/ID4_A1_Regione-0-crop_slice_4.tif  "
      ]
     },
     "execution_count": 5,
     "metadata": {},
     "output_type": "execute_result"
    }
   ],
   "source": [
    "data_df = get_file_names('data/')\n",
    "data_df.tail(10)"
   ]
  },
  {
   "cell_type": "markdown",
   "metadata": {},
   "source": [
    "### Display the images per row"
   ]
  },
  {
   "cell_type": "code",
   "execution_count": 7,
   "metadata": {},
   "outputs": [
    {
     "ename": "IndentationError",
     "evalue": "unindent does not match any outer indentation level (<tokenize>, line 23)",
     "output_type": "error",
     "traceback": [
      "\u001b[0;36m  File \u001b[0;32m<tokenize>:23\u001b[0;36m\u001b[0m\n\u001b[0;31m    image_path = row['image']\u001b[0m\n\u001b[0m    ^\u001b[0m\n\u001b[0;31mIndentationError\u001b[0m\u001b[0;31m:\u001b[0m unindent does not match any outer indentation level\n"
     ]
    }
   ],
   "source": [
    "def strip_path(path):\n",
    "  \"\"\"Strips the path and returns only the file name.\n",
    "\n",
    "  Args:\n",
    "    path: The path to the file.\n",
    "\n",
    "  Returns:\n",
    "    The file name.\n",
    "  \"\"\"\n",
    "\n",
    "  filename = os.path.basename(path)\n",
    "  return filename\n",
    "\n",
    "\n",
    "def display_images(row):\n",
    "      \"\"\"\n",
    "      Displays all image formats in a row.\n",
    "\n",
    "      Args:\n",
    "        row: The row number of the image.\n",
    "\n",
    "      \"\"\"\n",
    "    image_path = row['image']\n",
    "    bwmask_path = row['bwmask']\n",
    "    label_path = row['label']\n",
    "\n",
    "    fig, axs = plt.subplots(1, 3, figsize=(10, 4))\n",
    "    \n",
    "    img1 = Image.open(image_path)\n",
    "    imarray1 = numpy.array(img1)\n",
    "    axs[0].imshow(img1)\n",
    "    axs[0].set_title(strip_path(image_path))\n",
    "    axs[0].axis('off')\n",
    "    axs[0].text(0.5, -0.15, f'Shape: {imarray1.shape}', ha='center', transform=axs[0].transAxes)\n",
    "\n",
    "    img2 = Image.open(bwmask_path)\n",
    "    imarray2 = numpy.array(img2)\n",
    "    axs[1].imshow(img2)\n",
    "    axs[1].set_title(strip_path(bwmask_path))\n",
    "    axs[1].axis('off')\n",
    "    axs[1].text(0.5, -0.15, f'Shape: {imarray2.shape}', ha='center', transform=axs[1].transAxes)\n",
    "\n",
    "    img3 = Image.open(label_path)\n",
    "    imarray3 = numpy.array(img3)\n",
    "    axs[2].imshow(img3)\n",
    "    axs[2].set_title(strip_path(label_path))\n",
    "    axs[2].axis('off')\n",
    "    axs[2].text(0.5, -0.15, f'Shape: {imarray3.shape}', ha='center', transform=axs[2].transAxes)\n",
    "\n",
    "\n",
    "    plt.tight_layout()\n",
    "\n",
    "    plt.show()\n",
    "\n",
    "# Display images from the first row of the DataFrame\n",
    "display_images(data_df.iloc[0])\n"
   ]
  },
  {
   "cell_type": "markdown",
   "metadata": {},
   "source": [
    "## Extract protein localization and interaction information from the masks\n"
   ]
  },
  {
   "cell_type": "code",
   "execution_count": null,
   "metadata": {},
   "outputs": [],
   "source": []
  },
  {
   "cell_type": "code",
   "execution_count": null,
   "metadata": {},
   "outputs": [],
   "source": [
    "\n",
    "# Step 2: Graph Network Generation\n",
    "# Create a graph data structure to represent the cell network\n",
    "# Add proteins as nodes to the graph\n",
    "# Add edges between interacting proteins based on the extracted interactions\n"
   ]
  },
  {
   "cell_type": "code",
   "execution_count": null,
   "metadata": {},
   "outputs": [],
   "source": [
    "\n",
    "# Step 3: Network Analysis using Louvain Algorithm\n",
    "# Use NetworkX library to implement the Louvain algorithm for community detection\n",
    "# Partition the cell network into communities (protein complexes)\n",
    "# Analyze the communities to identify important nodes and pathways\n"
   ]
  },
  {
   "cell_type": "code",
   "execution_count": null,
   "metadata": {},
   "outputs": [],
   "source": [
    "\n",
    "# Step 4: Network Visualization\n",
    "# Use NetworkX or other libraries like Matplotlib or Plotly to visualize the cell network\n",
    "# Visualize protein complexes as separate subgraphs or colors for better understanding\n"
   ]
  },
  {
   "cell_type": "code",
   "execution_count": null,
   "metadata": {},
   "outputs": [],
   "source": [
    "\n",
    "# Step 5: Data Integration\n",
    "# Integrate additional data sources, if available, to enrich the cell network analysis\n",
    "# This can include protein function data, gene expression levels, or other relevant information\n"
   ]
  },
  {
   "cell_type": "code",
   "execution_count": null,
   "metadata": {},
   "outputs": [],
   "source": [
    "\n",
    "# Step 6: Simulation\n",
    "# Implement simulation scenarios to perturb the cell network and observe its behavior\n",
    "# Measure the effects of changes on the network's stability and functionality\n"
   ]
  },
  {
   "cell_type": "code",
   "execution_count": null,
   "metadata": {},
   "outputs": [],
   "source": [
    "\n",
    "# Step 7: Optimization\n",
    "# Develop optimization algorithms to find the most influential proteins or pathways\n",
    "# Optimize the cell network towards a desired outcome, such as improved cell function\n"
   ]
  },
  {
   "cell_type": "code",
   "execution_count": null,
   "metadata": {},
   "outputs": [],
   "source": [
    "\n",
    "# Step 8: Reporting\n",
    "# Implement a reporting system to generate analysis and simulation reports\n",
    "# Enable users to share their results and findings with others\n"
   ]
  },
  {
   "cell_type": "code",
   "execution_count": null,
   "metadata": {},
   "outputs": [],
   "source": [
    "\n",
    "# Step 9: Evaluation Framework\n",
    "# Define an evaluation framework to assess the research quality of relevant journals\n",
    "# Measure impact and relevance of publications in the field of graph network analysis of cell organization\n"
   ]
  },
  {
   "cell_type": "code",
   "execution_count": null,
   "metadata": {},
   "outputs": [],
   "source": [
    "\n",
    "# Step 10: Compile Results and Conclusions\n",
    "# Summarize the findings from network analysis, simulations, and optimization\n",
    "# Present conclusions about the structure and organization of proteins within a cell\n"
   ]
  },
  {
   "cell_type": "code",
   "execution_count": null,
   "metadata": {},
   "outputs": [],
   "source": [
    "\n",
    "# Step 11: Finalize the Project\n",
    "# Clean up the code, optimize performance, and refactor if necessary\n",
    "# Write a detailed documentation to explain the project and its results\n",
    "\n"
   ]
  }
 ],
 "metadata": {
  "kernelspec": {
   "display_name": "Python 3 (ipykernel)",
   "language": "python",
   "name": "python3"
  },
  "language_info": {
   "codemirror_mode": {
    "name": "ipython",
    "version": 3
   },
   "file_extension": ".py",
   "mimetype": "text/x-python",
   "name": "python",
   "nbconvert_exporter": "python",
   "pygments_lexer": "ipython3",
   "version": "3.11.3"
  }
 },
 "nbformat": 4,
 "nbformat_minor": 2
}
